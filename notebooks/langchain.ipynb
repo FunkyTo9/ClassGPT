{
 "cells": [
  {
   "attachments": {},
   "cell_type": "markdown",
   "metadata": {},
   "source": [
    "# LlamaIndex with Langchain\n",
    "\n",
    "source: https://github.com/jerryjliu/gpt_index/blob/main/examples/langchain_demo/LangchainDemo.ipynb"
   ]
  },
  {
   "cell_type": "code",
   "execution_count": 1,
   "metadata": {},
   "outputs": [],
   "source": [
    "from IPython.display import Markdown, display\n",
    "from langchain.agents import Tool\n",
    "from langchain.chains.conversation.memory import ConversationBufferMemory\n",
    "from langchain import OpenAI\n",
    "from langchain.agents import initialize_agent\n",
    "from llama_index import GPTSimpleVectorIndex\n",
    "\n",
    "import logging\n",
    "import sys\n",
    "\n",
    "logging.basicConfig(stream=sys.stdout, level=logging.INFO)\n",
    "logging.getLogger().addHandler(logging.StreamHandler(stream=sys.stdout))\n"
   ]
  },
  {
   "cell_type": "code",
   "execution_count": 2,
   "metadata": {},
   "outputs": [],
   "source": [
    "index = GPTSimpleVectorIndex.load_from_disk('index.json')"
   ]
  },
  {
   "cell_type": "code",
   "execution_count": 3,
   "metadata": {},
   "outputs": [],
   "source": [
    "tools = [\n",
    "    Tool(\n",
    "        name = \"lecture 1 Index\",\n",
    "        func=lambda q: str(index.query(q)),\n",
    "        description=\"Useful to answering questions about lecture 1: intro to AI.\",\n",
    "        return_direct=True\n",
    "    ),\n",
    "]\n"
   ]
  },
  {
   "cell_type": "code",
   "execution_count": 4,
   "metadata": {},
   "outputs": [],
   "source": [
    "memory = ConversationBufferMemory(memory_key=\"chat_history\")\n",
    "llm=OpenAI(temperature=0, model_name=\"gpt-3.5-turbo\")\n",
    "agent_chain = initialize_agent(tools, llm, agent=\"conversational-react-description\", memory=memory)"
   ]
  },
  {
   "cell_type": "code",
   "execution_count": 6,
   "metadata": {},
   "outputs": [
    {
     "name": "stderr",
     "output_type": "stream",
     "text": [
      "INFO:root:> [query] Total LLM token usage: 1857 tokens\n"
     ]
    },
    {
     "name": "stdout",
     "output_type": "stream",
     "text": [
      "> [query] Total LLM token usage: 1857 tokens\n"
     ]
    },
    {
     "name": "stderr",
     "output_type": "stream",
     "text": [
      "INFO:root:> [query] Total embedding token usage: 1 tokens\n"
     ]
    },
    {
     "name": "stdout",
     "output_type": "stream",
     "text": [
      "> [query] Total embedding token usage: 1 tokens\n"
     ]
    }
   ],
   "source": [
    "res = agent_chain.run(input=\"What does this lecture talk about? Summarize it for me\")"
   ]
  },
  {
   "cell_type": "code",
   "execution_count": 7,
   "metadata": {},
   "outputs": [
    {
     "data": {
      "text/markdown": [
       "<b>\n",
       "AI is the study of the computations that make it possible to perceive, reason, and act. It is the art of creating machines that perform functions that require intelligence when performed by humans. AI is the enterprise of designing and analyzing intelligent agents, which are entities that perceive and act. AI has a long history, beginning with Alan Turing's 1950 paper \"Computing Machinery and Intelligence\". AI has been used in a variety of applications, such as information retrieval, data mining, knowledge discovery, customizable software systems, smart devices, agile manufacturing systems, autonomous vehicles, bioinformatics, and internet tools. AI has also been used to create deep learning systems, which have been used in image recognition, natural language processing, speech recognition, machine translation, and robotic scientists.</b>"
      ],
      "text/plain": [
       "<IPython.core.display.Markdown object>"
      ]
     },
     "metadata": {},
     "output_type": "display_data"
    }
   ],
   "source": [
    "display(Markdown(f\"<b>{res}</b>\"))"
   ]
  },
  {
   "cell_type": "code",
   "execution_count": 10,
   "metadata": {},
   "outputs": [
    {
     "name": "stdout",
     "output_type": "stream",
     "text": [
      "{'agent': ConversationalAgent(llm_chain=LLMChain(memory=None, callback_manager=<langchain.callbacks.shared.SharedCallbackManager object at 0x111ca2d00>, verbose=False, prompt=PromptTemplate(input_variables=['input', 'chat_history', 'agent_scratchpad'], output_parser=None, partial_variables={}, template='Assistant is a large language model trained by OpenAI.\\n\\nAssistant is designed to be able to assist with a wide range of tasks, from answering simple questions to providing in-depth explanations and discussions on a wide range of topics. As a language model, Assistant is able to generate human-like text based on the input it receives, allowing it to engage in natural-sounding conversations and provide responses that are coherent and relevant to the topic at hand.\\n\\nAssistant is constantly learning and improving, and its capabilities are constantly evolving. It is able to process and understand large amounts of text, and can use this knowledge to provide accurate and informative responses to a wide range of questions. Additionally, Assistant is able to generate its own text based on the input it receives, allowing it to engage in discussions and provide explanations and descriptions on a wide range of topics.\\n\\nOverall, Assistant is a powerful tool that can help with a wide range of tasks and provide valuable insights and information on a wide range of topics. Whether you need help with a specific question or just want to have a conversation about a particular topic, Assistant is here to assist.\\n\\nTOOLS:\\n------\\n\\nAssistant has access to the following tools:\\n\\n> lecture 1 Index: Useful to answering questions about lecture 1: intro to AI.\\n\\nTo use a tool, please use the following format:\\n\\n```\\nThought: Do I need to use a tool? Yes\\nAction: the action to take, should be one of [lecture 1 Index]\\nAction Input: the input to the action\\nObservation: the result of the action\\n```\\n\\nWhen you have a response to say to the Human, or if you do not need to use a tool, you MUST use the format:\\n\\n```\\nThought: Do I need to use a tool? No\\nAI: [your response here]\\n```\\n\\nBegin!\\n\\nPrevious conversation history:\\n{chat_history}\\n\\nNew input: {input}\\n{agent_scratchpad}', template_format='f-string', validate_template=True), llm=OpenAIChat(cache=None, verbose=False, callback_manager=<langchain.callbacks.shared.SharedCallbackManager object at 0x111ca2d00>, client=<class 'openai.api_resources.chat_completion.ChatCompletion'>, model_name='gpt-3.5-turbo', model_kwargs={'temperature': 0}, openai_api_key=None, max_retries=6, prefix_messages=[], streaming=False), output_key='text'), allowed_tools=['lecture 1 Index'], return_values=['output'], ai_prefix='AI'),\n",
      " 'callback_manager': <langchain.callbacks.shared.SharedCallbackManager object at 0x111ca2d00>,\n",
      " 'early_stopping_method': 'force',\n",
      " 'max_iterations': 15,\n",
      " 'memory': ConversationBufferMemory(human_prefix='Human', ai_prefix='AI', buffer='\\nHuman: What does this lecture talk about? Summarize it for me\\nAI: \\nAI is the study of the computations that make it possible to perceive, reason, and act. It is the art of creating machines that perform functions that require intelligence when performed by humans. AI is the enterprise of designing and analyzing intelligent agents, which are entities that perceive and act. AI has a long history, beginning with Alan Turing\\'s 1950 paper \"Computing Machinery and Intelligence\". AI has been used in a variety of applications, such as information retrieval, data mining, knowledge discovery, customizable software systems, smart devices, agile manufacturing systems, autonomous vehicles, bioinformatics, and internet tools. AI has also been used to create deep learning systems, which have been used in image recognition, natural language processing, speech recognition, machine translation, and robotic scientists.', output_key=None, input_key=None, memory_key='chat_history'),\n",
      " 'return_intermediate_steps': False,\n",
      " 'tools': [Tool(name='lecture 1 Index', description='Useful to answering questions about lecture 1: intro to AI.', return_direct=True, verbose=False, callback_manager=<langchain.callbacks.shared.SharedCallbackManager object at 0x111ca2d00>, func=<function <lambda> at 0x176f1a1f0>, coroutine=None)],\n",
      " 'verbose': False}\n"
     ]
    }
   ],
   "source": [
    "from pprint import pprint\n",
    "pprint(vars(agent_chain))"
   ]
  },
  {
   "cell_type": "code",
   "execution_count": 15,
   "metadata": {},
   "outputs": [
    {
     "name": "stdout",
     "output_type": "stream",
     "text": [
      "\n",
      "Human: What does this lecture talk about? Summarize it for me\n",
      "AI: \n",
      "AI is the study of the computations that make it possible to perceive, reason, and act. It is the art of creating machines that perform functions that require intelligence when performed by humans. AI is the enterprise of designing and analyzing intelligent agents, which are entities that perceive and act. AI has a long history, beginning with Alan Turing's 1950 paper \"Computing Machinery and Intelligence\". AI has been used in a variety of applications, such as information retrieval, data mining, knowledge discovery, customizable software systems, smart devices, agile manufacturing systems, autonomous vehicles, bioinformatics, and internet tools. AI has also been used to create deep learning systems, which have been used in image recognition, natural language processing, speech recognition, machine translation, and robotic scientists.\n"
     ]
    }
   ],
   "source": [
    "print(agent_chain.memory.buffer)"
   ]
  },
  {
   "cell_type": "code",
   "execution_count": 16,
   "metadata": {},
   "outputs": [],
   "source": [
    "res = agent_chain.run(input=\"What was my previous question?\")"
   ]
  },
  {
   "cell_type": "code",
   "execution_count": 17,
   "metadata": {},
   "outputs": [
    {
     "data": {
      "text/markdown": [
       "<b>Your previous question was \"What does this lecture talk about? Summarize it for me\".</b>"
      ],
      "text/plain": [
       "<IPython.core.display.Markdown object>"
      ]
     },
     "metadata": {},
     "output_type": "display_data"
    }
   ],
   "source": [
    "display(Markdown(f\"<b>{res}</b>\"))"
   ]
  },
  {
   "cell_type": "code",
   "execution_count": 18,
   "metadata": {},
   "outputs": [
    {
     "name": "stdout",
     "output_type": "stream",
     "text": [
      "\n",
      "Human: What does this lecture talk about? Summarize it for me\n",
      "AI: \n",
      "AI is the study of the computations that make it possible to perceive, reason, and act. It is the art of creating machines that perform functions that require intelligence when performed by humans. AI is the enterprise of designing and analyzing intelligent agents, which are entities that perceive and act. AI has a long history, beginning with Alan Turing's 1950 paper \"Computing Machinery and Intelligence\". AI has been used in a variety of applications, such as information retrieval, data mining, knowledge discovery, customizable software systems, smart devices, agile manufacturing systems, autonomous vehicles, bioinformatics, and internet tools. AI has also been used to create deep learning systems, which have been used in image recognition, natural language processing, speech recognition, machine translation, and robotic scientists.\n",
      "Human: What was my previous question?\n",
      "AI: Your previous question was \"What does this lecture talk about? Summarize it for me\".\n"
     ]
    }
   ],
   "source": [
    "print(agent_chain.memory.buffer)"
   ]
  },
  {
   "cell_type": "code",
   "execution_count": 19,
   "metadata": {},
   "outputs": [
    {
     "name": "stderr",
     "output_type": "stream",
     "text": [
      "INFO:root:> [query] Total LLM token usage: 1716 tokens\n"
     ]
    },
    {
     "name": "stdout",
     "output_type": "stream",
     "text": [
      "> [query] Total LLM token usage: 1716 tokens\n"
     ]
    },
    {
     "name": "stderr",
     "output_type": "stream",
     "text": [
      "INFO:root:> [query] Total embedding token usage: 3 tokens\n"
     ]
    },
    {
     "name": "stdout",
     "output_type": "stream",
     "text": [
      "> [query] Total embedding token usage: 3 tokens\n"
     ]
    }
   ],
   "source": [
    "res = agent_chain.run(input=\"Give me 3 practice test questions based on these slides with answers\")"
   ]
  },
  {
   "cell_type": "code",
   "execution_count": 20,
   "metadata": {},
   "outputs": [
    {
     "data": {
      "text/markdown": [
       "<b>\n",
       "There are no practice test questions provided in the context information.</b>"
      ],
      "text/plain": [
       "<IPython.core.display.Markdown object>"
      ]
     },
     "metadata": {},
     "output_type": "display_data"
    }
   ],
   "source": [
    "display(Markdown(f\"<b>{res}</b>\"))"
   ]
  },
  {
   "cell_type": "code",
   "execution_count": 21,
   "metadata": {},
   "outputs": [
    {
     "name": "stderr",
     "output_type": "stream",
     "text": [
      "INFO:root:> [query] Total LLM token usage: 1716 tokens\n"
     ]
    },
    {
     "name": "stdout",
     "output_type": "stream",
     "text": [
      "> [query] Total LLM token usage: 1716 tokens\n"
     ]
    },
    {
     "name": "stderr",
     "output_type": "stream",
     "text": [
      "INFO:root:> [query] Total embedding token usage: 3 tokens\n"
     ]
    },
    {
     "name": "stdout",
     "output_type": "stream",
     "text": [
      "> [query] Total embedding token usage: 3 tokens\n"
     ]
    }
   ],
   "source": [
    "res = agent_chain.run(input=\"Generate them for me based on the slides\")"
   ]
  },
  {
   "cell_type": "code",
   "execution_count": 22,
   "metadata": {},
   "outputs": [
    {
     "data": {
      "text/markdown": [
       "<b>\n",
       "There are no practice test questions provided in the context information.</b>"
      ],
      "text/plain": [
       "<IPython.core.display.Markdown object>"
      ]
     },
     "metadata": {},
     "output_type": "display_data"
    }
   ],
   "source": [
    "display(Markdown(f\"<b>{res}</b>\"))"
   ]
  },
  {
   "cell_type": "code",
   "execution_count": 23,
   "metadata": {},
   "outputs": [
    {
     "data": {
      "text/plain": [
       "'Sure, I can create some practice test questions for you based on the lecture 1 slides. Here are three questions with answers:\\n\\n1. What is the definition of AI?\\nAnswer: AI is the study of the computations that make it possible to perceive, reason, and act.\\n\\n2. What are some applications of AI?\\nAnswer: AI has been used in a variety of applications, such as information retrieval, data mining, knowledge discovery, customizable software systems, smart devices, agile manufacturing systems, autonomous vehicles, bioinformatics, and internet tools.\\n\\n3. What are deep learning systems used for?\\nAnswer: Deep learning systems have been used in image recognition, natural language processing, speech recognition, machine translation, and robotic scientists.'"
      ]
     },
     "execution_count": 23,
     "metadata": {},
     "output_type": "execute_result"
    }
   ],
   "source": [
    "agent_chain.run(input=\"I want you to create the questions for me\")"
   ]
  },
  {
   "cell_type": "code",
   "execution_count": 24,
   "metadata": {},
   "outputs": [
    {
     "name": "stdout",
     "output_type": "stream",
     "text": [
      "\n",
      "Human: What does this lecture talk about? Summarize it for me\n",
      "AI: \n",
      "AI is the study of the computations that make it possible to perceive, reason, and act. It is the art of creating machines that perform functions that require intelligence when performed by humans. AI is the enterprise of designing and analyzing intelligent agents, which are entities that perceive and act. AI has a long history, beginning with Alan Turing's 1950 paper \"Computing Machinery and Intelligence\". AI has been used in a variety of applications, such as information retrieval, data mining, knowledge discovery, customizable software systems, smart devices, agile manufacturing systems, autonomous vehicles, bioinformatics, and internet tools. AI has also been used to create deep learning systems, which have been used in image recognition, natural language processing, speech recognition, machine translation, and robotic scientists.\n",
      "Human: What was my previous question?\n",
      "AI: Your previous question was \"What does this lecture talk about? Summarize it for me\".\n",
      "Human: Give me 3 practice test questions based on these slides with answers\n",
      "AI: \n",
      "There are no practice test questions provided in the context information.\n",
      "Human: Generate them for me based on the slides\n",
      "AI: \n",
      "There are no practice test questions provided in the context information.\n",
      "Human: I want you to create the questions for me\n",
      "AI: Sure, I can create some practice test questions for you based on the lecture 1 slides. Here are three questions with answers:\n",
      "\n",
      "1. What is the definition of AI?\n",
      "Answer: AI is the study of the computations that make it possible to perceive, reason, and act.\n",
      "\n",
      "2. What are some applications of AI?\n",
      "Answer: AI has been used in a variety of applications, such as information retrieval, data mining, knowledge discovery, customizable software systems, smart devices, agile manufacturing systems, autonomous vehicles, bioinformatics, and internet tools.\n",
      "\n",
      "3. What are deep learning systems used for?\n",
      "Answer: Deep learning systems have been used in image recognition, natural language processing, speech recognition, machine translation, and robotic scientists.\n"
     ]
    }
   ],
   "source": [
    "print(agent_chain.memory.buffer)"
   ]
  },
  {
   "cell_type": "code",
   "execution_count": null,
   "metadata": {},
   "outputs": [],
   "source": []
  }
 ],
 "metadata": {
  "kernelspec": {
   "display_name": "base",
   "language": "python",
   "name": "python3"
  },
  "language_info": {
   "codemirror_mode": {
    "name": "ipython",
    "version": 3
   },
   "file_extension": ".py",
   "mimetype": "text/x-python",
   "name": "python",
   "nbconvert_exporter": "python",
   "pygments_lexer": "ipython3",
   "version": "3.9.10"
  },
  "orig_nbformat": 4
 },
 "nbformat": 4,
 "nbformat_minor": 2
}
