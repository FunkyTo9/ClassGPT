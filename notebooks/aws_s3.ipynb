{
 "cells": [
  {
   "cell_type": "code",
   "execution_count": 15,
   "metadata": {},
   "outputs": [
    {
     "name": "stdout",
     "output_type": "stream",
     "text": [
      "classgpt\n",
      "hackathonfiles123\n",
      "kafka-stock-market-project-ben\n"
     ]
    }
   ],
   "source": [
    "import boto3\n",
    "\n",
    "s3 = boto3.resource('s3')\n",
    "\n",
    "# list all buckets\n",
    "for bucket in s3.buckets.all():\n",
    "    print(bucket.name)"
   ]
  },
  {
   "cell_type": "code",
   "execution_count": 18,
   "metadata": {},
   "outputs": [
    {
     "data": {
      "text/plain": [
       "s3.Object(bucket_name='classgpt', key='COMS472/')"
      ]
     },
     "execution_count": 18,
     "metadata": {},
     "output_type": "execute_result"
    }
   ],
   "source": [
    "# select bucket by name\n",
    "bucket = s3.Bucket('classgpt')\n",
    "\n",
    "class_name = \"COMS472\"\n",
    "bucket.put_object(Key=f'{class_name}/')"
   ]
  },
  {
   "cell_type": "code",
   "execution_count": 19,
   "metadata": {},
   "outputs": [
    {
     "data": {
      "text/plain": [
       "True"
      ]
     },
     "execution_count": 19,
     "metadata": {},
     "output_type": "execute_result"
    }
   ],
   "source": [
    "def folder_exists(bucket, folder_name):\n",
    "    for _ in bucket.objects.filter(Prefix=f\"{folder_name}/\"):\n",
    "        return True\n",
    "    return False\n",
    "    \n",
    "folder_exists(bucket, class_name)"
   ]
  },
  {
   "cell_type": "code",
   "execution_count": 36,
   "metadata": {},
   "outputs": [],
   "source": [
    "# select bucket by name\n",
    "bucket = s3.Bucket(\"classgpt\")\n",
    "class_name = \"COMS472\"\n",
    "\n",
    "if not folder_exists(bucket, class_name):\n",
    "    # create folder\n",
    "    bucket.put_object(Key=f\"{class_name}/\")\n",
    "\n",
    "# upload file\n",
    "file_path = \"pdfs/lecture01-intro-2up.pdf\"\n",
    "file_name = file_path.split(\"/\")[-1]\n",
    "bucket.upload_file(file_path, f\"{class_name}/{file_name}\")\n",
    "\n",
    "file_path = \"pdfs/lecture02-agents-2up.pdf\"\n",
    "file_name = file_path.split(\"/\")[-1]\n",
    "bucket.upload_file(file_path, f\"{class_name}/{file_name}\")"
   ]
  },
  {
   "cell_type": "code",
   "execution_count": 37,
   "metadata": {},
   "outputs": [
    {
     "name": "stdout",
     "output_type": "stream",
     "text": [
      "COMS472/\n",
      "COMS472/lecture01-intro-2up.pdf\n",
      "COMS472/lecture02-agents-2up.pdf\n"
     ]
    }
   ],
   "source": [
    "# list files in folder folder\n",
    "for obj in bucket.objects.filter(Prefix=f\"{class_name}/\"):\n",
    "    print(obj.key)"
   ]
  },
  {
   "cell_type": "code",
   "execution_count": 22,
   "metadata": {},
   "outputs": [],
   "source": [
    "# select bucket by name\n",
    "bucket = s3.Bucket(\"classgpt\")\n",
    "class_name = \"STAT474\"\n",
    "\n",
    "if not folder_exists(bucket, class_name):\n",
    "    # create folder\n",
    "    bucket.put_object(Key=f\"{class_name}/\")\n",
    "\n",
    "# upload file\n",
    "file_path = \"pdfs/lecture01-intro-2up.pdf\"\n",
    "file_name = file_path.split(\"/\")[-1]\n",
    "bucket.upload_file(file_path, f\"{class_name}/{file_name}\")"
   ]
  },
  {
   "cell_type": "code",
   "execution_count": 23,
   "metadata": {},
   "outputs": [
    {
     "name": "stdout",
     "output_type": "stream",
     "text": [
      "COMS472/\n",
      "COMS472/lecture01-intro-2up.pdf\n",
      "STAT474/\n",
      "STAT474/lecture01-intro-2up.pdf\n"
     ]
    }
   ],
   "source": [
    "# list files in folder folder\n",
    "for obj in bucket.objects.filter(Prefix=\"\"):\n",
    "    print(obj.key)"
   ]
  },
  {
   "cell_type": "code",
   "execution_count": 24,
   "metadata": {},
   "outputs": [
    {
     "name": "stdout",
     "output_type": "stream",
     "text": [
      "COMS472/\n",
      "STAT474/\n"
     ]
    }
   ],
   "source": [
    "# list folders with s3 resource in bucket\n",
    "for obj in bucket.objects.filter(Prefix=\"\"):\n",
    "    if obj.key.endswith(\"/\"):\n",
    "        print(obj.key)"
   ]
  },
  {
   "cell_type": "code",
   "execution_count": 33,
   "metadata": {},
   "outputs": [
    {
     "name": "stdout",
     "output_type": "stream",
     "text": [
      "{'COMS472': ['lecture01-intro-2up.pdf'], 'STAT474': ['lecture01-intro-2up.pdf']}\n"
     ]
    }
   ],
   "source": [
    "from pprint import pprint\n",
    "\n",
    "classes = {}\n",
    "\n",
    "for obj in bucket.objects.all():\n",
    "    if obj.key.endswith(\"/\"):\n",
    "        classes[obj.key[:-1]] = []\n",
    "    else:\n",
    "        cname, fname = obj.key.split(\"/\")\n",
    "        classes[cname].append(fname)\n",
    "\n",
    "pprint(classes)"
   ]
  },
  {
   "cell_type": "code",
   "execution_count": 29,
   "metadata": {},
   "outputs": [
    {
     "data": {
      "text/plain": [
       "[{'ResponseMetadata': {'RequestId': 'YX3CFM8P2H020NZ4',\n",
       "   'HostId': 'JZa9Ua2VRbkzogE1bVSGsC60UTPFd9jSfVanL0DD+jV7ZnbNfwn6PjdhnibgJuroxjqNv9MwuuU=',\n",
       "   'HTTPStatusCode': 200,\n",
       "   'HTTPHeaders': {'x-amz-id-2': 'JZa9Ua2VRbkzogE1bVSGsC60UTPFd9jSfVanL0DD+jV7ZnbNfwn6PjdhnibgJuroxjqNv9MwuuU=',\n",
       "    'x-amz-request-id': 'YX3CFM8P2H020NZ4',\n",
       "    'date': 'Thu, 02 Mar 2023 17:03:46 GMT',\n",
       "    'content-type': 'application/xml',\n",
       "    'transfer-encoding': 'chunked',\n",
       "    'server': 'AmazonS3',\n",
       "    'connection': 'close'},\n",
       "   'RetryAttempts': 0},\n",
       "  'Deleted': [{'Key': 'COMS472/'},\n",
       "   {'Key': 'STAT474/lecture01-intro-2up.pdf'},\n",
       "   {'Key': 'COMS472/lecture01-intro-2up.pdf'},\n",
       "   {'Key': 'STAT474/'}]}]"
      ]
     },
     "execution_count": 29,
     "metadata": {},
     "output_type": "execute_result"
    }
   ],
   "source": [
    "# remove all objects in a bucket\n",
    "bucket = s3.Bucket(\"classgpt\")\n",
    "bucket.objects.all().delete()"
   ]
  },
  {
   "cell_type": "code",
   "execution_count": null,
   "metadata": {},
   "outputs": [],
   "source": []
  }
 ],
 "metadata": {
  "kernelspec": {
   "display_name": "base",
   "language": "python",
   "name": "python3"
  },
  "language_info": {
   "codemirror_mode": {
    "name": "ipython",
    "version": 3
   },
   "file_extension": ".py",
   "mimetype": "text/x-python",
   "name": "python",
   "nbconvert_exporter": "python",
   "pygments_lexer": "ipython3",
   "version": "3.9.10"
  },
  "orig_nbformat": 4,
  "vscode": {
   "interpreter": {
    "hash": "0f1e841692445df6c0f476977380d4c26cc40d52508098a18c340919add514d9"
   }
  }
 },
 "nbformat": 4,
 "nbformat_minor": 2
}
